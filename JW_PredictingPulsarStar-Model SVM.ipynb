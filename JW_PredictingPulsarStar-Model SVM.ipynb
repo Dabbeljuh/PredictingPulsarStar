{
    "cells": [
        {
            "cell_type": "code",
            "execution_count": 21,
            "metadata": {},
            "outputs": [],
            "source": [
                "import pandas as pd\n",
                "import matplotlib.pyplot as plt\n",
                "import numpy as np\n",
                "import seaborn as sns\n",
                "\n",
                "from sklearn.model_selection import train_test_split\n",
                "from imblearn.over_sampling import SMOTE\n",
                "from imblearn.pipeline import make_pipeline\n",
                "from sklearn.model_selection import GridSearchCV, RandomizedSearchCV\n",
                "from sklearn.preprocessing import StandardScaler\n",
                "from sklearn.svm import SVC\n",
                "from sklearn.metrics import classification_report,f1_score,recall_score ,precision_score,roc_curve,confusion_matrix, accuracy_score"
            ]
        },
        {
            "cell_type": "code",
            "execution_count": 2,
            "metadata": {},
            "outputs": [],
            "source": [
                "#read in again to remove previous changes\n",
                "new_columns = ['mean_profile', 'std_profile', 'kurtosis_profile', 'skewness_profile',\n",
                "               'mean_DM_SNR', 'std_DM_SNR', 'kurtosis_DM_SNR', 'skewness_DM_SNR', 'target']\n",
                "\n",
                "df = pd.read_csv('pulsar_data_train.csv')\n",
                "df.columns = new_columns"
            ]
        },
        {
            "cell_type": "code",
            "execution_count": 3,
            "metadata": {},
            "outputs": [],
            "source": [
                "df = df.dropna()\n",
                "\n",
                "# Split the data into features and target\n",
                "target = df['target']\n",
                "features = df.drop(columns='target')\n",
                "\n",
                "# First split: Training data and rest (validation data + test data)\n",
                "X_train, X_rest, y_train, y_rest = train_test_split(features, target,\n",
                "                                                    test_size=0.3,\n",
                "                                                    random_state=42)\n",
                "\n",
                "# Second split: Test data and validation data\n",
                "X_test, X_val, y_test, y_val = train_test_split(X_rest, y_rest,\n",
                "                                                test_size=0.5,\n",
                "                                                random_state=42)"
            ]
        },
        {
            "cell_type": "code",
            "execution_count": 4,
            "metadata": {},
            "outputs": [],
            "source": [
                "model_results = []"
            ]
        },
        {
            "attachments": {},
            "cell_type": "markdown",
            "metadata": {},
            "source": [
                "## SVM - baseline"
            ]
        },
        {
            "cell_type": "code",
            "execution_count": 5,
            "metadata": {},
            "outputs": [],
            "source": [
                "# Create a pipeline that scales the data and applies SMOTE\n",
                "pipe = make_pipeline(StandardScaler(), SMOTE(), SVC())\n",
                "\n",
                "# Fit the pipeline to the training data\n",
                "pipe.fit(X_train, y_train)\n",
                "\n",
                "# Make predictions on new data\n",
                "y_pred_baseline = pipe.predict(X_test)"
            ]
        },
        {
            "cell_type": "code",
            "execution_count": 6,
            "metadata": {},
            "outputs": [
                {
                    "data": {
                        "text/html": [
                            "<div>\n",
                            "<style scoped>\n",
                            "    .dataframe tbody tr th:only-of-type {\n",
                            "        vertical-align: middle;\n",
                            "    }\n",
                            "\n",
                            "    .dataframe tbody tr th {\n",
                            "        vertical-align: top;\n",
                            "    }\n",
                            "\n",
                            "    .dataframe thead th {\n",
                            "        text-align: right;\n",
                            "    }\n",
                            "</style>\n",
                            "<table border=\"1\" class=\"dataframe\">\n",
                            "  <thead>\n",
                            "    <tr style=\"text-align: right;\">\n",
                            "      <th></th>\n",
                            "      <th>0</th>\n",
                            "    </tr>\n",
                            "  </thead>\n",
                            "  <tbody>\n",
                            "    <tr>\n",
                            "      <th>name</th>\n",
                            "      <td>SVM_baseline</td>\n",
                            "    </tr>\n",
                            "    <tr>\n",
                            "      <th>accuracy</th>\n",
                            "      <td>0.976995</td>\n",
                            "    </tr>\n",
                            "    <tr>\n",
                            "      <th>precision</th>\n",
                            "      <td>0.855072</td>\n",
                            "    </tr>\n",
                            "    <tr>\n",
                            "      <th>recall</th>\n",
                            "      <td>0.907692</td>\n",
                            "    </tr>\n",
                            "    <tr>\n",
                            "      <th>F1</th>\n",
                            "      <td>0.880597</td>\n",
                            "    </tr>\n",
                            "  </tbody>\n",
                            "</table>\n",
                            "</div>"
                        ],
                        "text/plain": [
                            "                      0\n",
                            "name       SVM_baseline\n",
                            "accuracy       0.976995\n",
                            "precision      0.855072\n",
                            "recall         0.907692\n",
                            "F1             0.880597"
                        ]
                    },
                    "execution_count": 6,
                    "metadata": {},
                    "output_type": "execute_result"
                }
            ],
            "source": [
                "accuracy = accuracy_score(y_test, y_pred_baseline)\n",
                "precision = precision_score(y_test, y_pred_baseline)\n",
                "recall = recall_score(y_test, y_pred_baseline)\n",
                "f1_scr = f1_score(y_test, y_pred_baseline)\n",
                "\n",
                "scores = {'name': 'SVM_baseline',\n",
                "          'accuracy': accuracy,\n",
                "          'precision': precision,\n",
                "          'recall': recall,\n",
                "          'F1': f1_scr,\n",
                "          }\n",
                "\n",
                "model_results.append(scores)\n",
                "\n",
                "# show results\n",
                "pd.DataFrame(model_results).T"
            ]
        },
        {
            "attachments": {},
            "cell_type": "markdown",
            "metadata": {},
            "source": [
                "## SVM with GridSearch"
            ]
        },
        {
            "cell_type": "code",
            "execution_count": 7,
            "metadata": {},
            "outputs": [],
            "source": [
                "# Define the parameter grid for the inner loop\n",
                "param_grid = {\n",
                "    'svc__C': [0.01, 0.1, 1, 10, 100],\n",
                "    'svc__kernel': ['rbf'], # 'linear', 'poly', 'sigmoid'\n",
                "    'svc__gamma': [0.01, 0.1, 1, 10, 100],\n",
                "    'svc__degree': [2, 3, 4]\n",
                "}\n",
                "\n",
                "\n",
                "# Create a GridSearchCV object for the inner loop\n",
                "grid = GridSearchCV(pipe, param_grid, cv=5, n_jobs=-1)\n",
                "\n",
                "# Fit the grid search to the data\n",
                "grid.fit(X_train, y_train)\n",
                "\n",
                "# Remove the 'svc__' prefix from the keys in best_params_\n",
                "best_params = {key.split('__')[1]: value for key, value in grid.best_params_.items()}\n",
                "\n",
                "# Create a pipeline with the best hyperparameters from the grid search\n",
                "pipe_grid = make_pipeline(StandardScaler(), SMOTE(), SVC(**best_params))\n",
                "\n",
                "# Fit the pipeline to the training data\n",
                "pipe_grid.fit(X_train, y_train)\n",
                "\n",
                "# Make predictions on new data using the pipeline with the best hyperparameters from the grid search\n",
                "y_pred_grid = pipe_grid.predict(X_test)\n"
            ]
        },
        {
            "cell_type": "code",
            "execution_count": 8,
            "metadata": {},
            "outputs": [
                {
                    "name": "stdout",
                    "output_type": "stream",
                    "text": [
                        "{'C': 1, 'degree': 4, 'gamma': 0.1, 'kernel': 'rbf'}\n"
                    ]
                }
            ],
            "source": [
                "print(best_params)"
            ]
        },
        {
            "cell_type": "code",
            "execution_count": 9,
            "metadata": {},
            "outputs": [
                {
                    "data": {
                        "text/html": [
                            "<div>\n",
                            "<style scoped>\n",
                            "    .dataframe tbody tr th:only-of-type {\n",
                            "        vertical-align: middle;\n",
                            "    }\n",
                            "\n",
                            "    .dataframe tbody tr th {\n",
                            "        vertical-align: top;\n",
                            "    }\n",
                            "\n",
                            "    .dataframe thead th {\n",
                            "        text-align: right;\n",
                            "    }\n",
                            "</style>\n",
                            "<table border=\"1\" class=\"dataframe\">\n",
                            "  <thead>\n",
                            "    <tr style=\"text-align: right;\">\n",
                            "      <th></th>\n",
                            "      <th>0</th>\n",
                            "      <th>1</th>\n",
                            "    </tr>\n",
                            "  </thead>\n",
                            "  <tbody>\n",
                            "    <tr>\n",
                            "      <th>name</th>\n",
                            "      <td>SVM_baseline</td>\n",
                            "      <td>SVM_grid</td>\n",
                            "    </tr>\n",
                            "    <tr>\n",
                            "      <th>accuracy</th>\n",
                            "      <td>0.976995</td>\n",
                            "      <td>0.977714</td>\n",
                            "    </tr>\n",
                            "    <tr>\n",
                            "      <th>precision</th>\n",
                            "      <td>0.855072</td>\n",
                            "      <td>0.856115</td>\n",
                            "    </tr>\n",
                            "    <tr>\n",
                            "      <th>recall</th>\n",
                            "      <td>0.907692</td>\n",
                            "      <td>0.915385</td>\n",
                            "    </tr>\n",
                            "    <tr>\n",
                            "      <th>F1</th>\n",
                            "      <td>0.880597</td>\n",
                            "      <td>0.884758</td>\n",
                            "    </tr>\n",
                            "  </tbody>\n",
                            "</table>\n",
                            "</div>"
                        ],
                        "text/plain": [
                            "                      0         1\n",
                            "name       SVM_baseline  SVM_grid\n",
                            "accuracy       0.976995  0.977714\n",
                            "precision      0.855072  0.856115\n",
                            "recall         0.907692  0.915385\n",
                            "F1             0.880597  0.884758"
                        ]
                    },
                    "execution_count": 9,
                    "metadata": {},
                    "output_type": "execute_result"
                }
            ],
            "source": [
                "accuracy = accuracy_score(y_test, y_pred_grid)\n",
                "precision = precision_score(y_test, y_pred_grid)\n",
                "recall = recall_score(y_test, y_pred_grid)\n",
                "f1_scr = f1_score(y_test, y_pred_grid)\n",
                "\n",
                "scores = {'name': 'SVM_grid',\n",
                "          'accuracy': accuracy,\n",
                "          'precision': precision,\n",
                "          'recall': recall,\n",
                "          'F1': f1_scr,\n",
                "          }\n",
                "\n",
                "model_results.append(scores)\n",
                "\n",
                "# show results\n",
                "pd.DataFrame(model_results).T"
            ]
        },
        {
            "attachments": {},
            "cell_type": "markdown",
            "metadata": {},
            "source": [
                "## SVM with RandomizedSearch"
            ]
        },
        {
            "cell_type": "code",
            "execution_count": 10,
            "metadata": {},
            "outputs": [],
            "source": [
                "# Create a RandomizedSearchCV object for the inner loop\n",
                "random_search = RandomizedSearchCV(pipe, param_distributions=param_grid, n_iter=10, cv=5, n_jobs=-1)\n",
                "\n",
                "# Fit the random search to the data\n",
                "random_search.fit(X_train, y_train)\n",
                "\n",
                "# Remove the 'svc__' prefix from the keys in best_params_\n",
                "best_params = {key.split('__')[1]: value for key, value in random_search.best_params_.items()}\n",
                "\n",
                "# Create a pipeline with the best hyperparameters from the random search\n",
                "pipe_random_search = make_pipeline(StandardScaler(), SMOTE(), SVC(**best_params))\n",
                "\n",
                "# Fit the pipeline to the training data\n",
                "pipe_random_search.fit(X_train, y_train)\n",
                "\n",
                "# Make predictions on new data using the pipeline with the best hyperparameters from the random search\n",
                "y_pred_random_search = pipe_random_search.predict(X_test)"
            ]
        },
        {
            "cell_type": "code",
            "execution_count": 11,
            "metadata": {},
            "outputs": [
                {
                    "name": "stdout",
                    "output_type": "stream",
                    "text": [
                        "{'kernel': 'rbf', 'gamma': 0.01, 'degree': 3, 'C': 10}\n"
                    ]
                }
            ],
            "source": [
                "print(best_params)"
            ]
        },
        {
            "cell_type": "code",
            "execution_count": 12,
            "metadata": {},
            "outputs": [
                {
                    "data": {
                        "text/html": [
                            "<div>\n",
                            "<style scoped>\n",
                            "    .dataframe tbody tr th:only-of-type {\n",
                            "        vertical-align: middle;\n",
                            "    }\n",
                            "\n",
                            "    .dataframe tbody tr th {\n",
                            "        vertical-align: top;\n",
                            "    }\n",
                            "\n",
                            "    .dataframe thead th {\n",
                            "        text-align: right;\n",
                            "    }\n",
                            "</style>\n",
                            "<table border=\"1\" class=\"dataframe\">\n",
                            "  <thead>\n",
                            "    <tr style=\"text-align: right;\">\n",
                            "      <th></th>\n",
                            "      <th>0</th>\n",
                            "      <th>1</th>\n",
                            "      <th>2</th>\n",
                            "    </tr>\n",
                            "  </thead>\n",
                            "  <tbody>\n",
                            "    <tr>\n",
                            "      <th>name</th>\n",
                            "      <td>SVM_baseline</td>\n",
                            "      <td>SVM_grid</td>\n",
                            "      <td>SVM_ran_search</td>\n",
                            "    </tr>\n",
                            "    <tr>\n",
                            "      <th>accuracy</th>\n",
                            "      <td>0.976995</td>\n",
                            "      <td>0.977714</td>\n",
                            "      <td>0.976995</td>\n",
                            "    </tr>\n",
                            "    <tr>\n",
                            "      <th>precision</th>\n",
                            "      <td>0.855072</td>\n",
                            "      <td>0.856115</td>\n",
                            "      <td>0.855072</td>\n",
                            "    </tr>\n",
                            "    <tr>\n",
                            "      <th>recall</th>\n",
                            "      <td>0.907692</td>\n",
                            "      <td>0.915385</td>\n",
                            "      <td>0.907692</td>\n",
                            "    </tr>\n",
                            "    <tr>\n",
                            "      <th>F1</th>\n",
                            "      <td>0.880597</td>\n",
                            "      <td>0.884758</td>\n",
                            "      <td>0.880597</td>\n",
                            "    </tr>\n",
                            "  </tbody>\n",
                            "</table>\n",
                            "</div>"
                        ],
                        "text/plain": [
                            "                      0         1               2\n",
                            "name       SVM_baseline  SVM_grid  SVM_ran_search\n",
                            "accuracy       0.976995  0.977714        0.976995\n",
                            "precision      0.855072  0.856115        0.855072\n",
                            "recall         0.907692  0.915385        0.907692\n",
                            "F1             0.880597  0.884758        0.880597"
                        ]
                    },
                    "execution_count": 12,
                    "metadata": {},
                    "output_type": "execute_result"
                }
            ],
            "source": [
                "accuracy = accuracy_score(y_test, y_pred_random_search)\n",
                "precision = precision_score(y_test, y_pred_random_search)\n",
                "recall = recall_score(y_test, y_pred_random_search)\n",
                "f1_scr = f1_score(y_test, y_pred_random_search)\n",
                "\n",
                "scores = {'name': 'SVM_ran_search',\n",
                "          'accuracy': accuracy,\n",
                "          'precision': precision,\n",
                "          'recall': recall,\n",
                "          'F1': f1_scr,\n",
                "          }\n",
                "\n",
                "model_results.append(scores)\n",
                "\n",
                "# show results\n",
                "pd.DataFrame(model_results).T"
            ]
        },
        {
            "cell_type": "code",
            "execution_count": 16,
            "metadata": {},
            "outputs": [
                {
                    "data": {
                        "image/png": "[encoded data removed]",
                        "text/plain": [
                            "<Figure size 640x480 with 1 Axes>"
                        ]
                    },
                    "metadata": {},
                    "output_type": "display_data"
                }
            ],
            "source": [
                "# calculate roc curve values\n",
                "false_positive_rate, recall, threshold = roc_curve(y_test,\n",
                "                                                   #y_pred_proba[:, 1],\n",
                "                                                   y_pred_grid,\n",
                "                                                   drop_intermediate=False) \n",
                "\n",
                "# figure and axes intialisation\n",
                "fig, ax = plt.subplots()\n",
                "\n",
                "# reference lines\n",
                "ax.plot([0, 1], ls = \"--\", label='random model')  # blue diagonal\n",
                "ax.plot([0, 0], [1, 0], c=\".7\", ls='--', label='ideal model')  # grey vertical\n",
                "ax.plot([1, 1], c=\".7\", ls='--')  # grey horizontal\n",
                "\n",
                "# roc curve\n",
                "ax.plot(false_positive_rate, recall, label='model_SVM')\n",
                "\n",
                "# labels\n",
                "ax.set_title(\"Receiver Operating Characteristic\")\n",
                "ax.set_xlabel(\"False Positive Rate\")\n",
                "ax.set_ylabel(\"Recall\")\n",
                "ax.legend();"
            ]
        },
        {
            "cell_type": "code",
            "execution_count": 23,
            "metadata": {},
            "outputs": [
                {
                    "data": {
                        "text/plain": [
                            "<Axes: >"
                        ]
                    },
                    "execution_count": 23,
                    "metadata": {},
                    "output_type": "execute_result"
                },
                {
                    "data": {
                        "image/png": "[encoded data removed]",
                        "text/plain": [
                            "<Figure size 640x480 with 2 Axes>"
                        ]
                    },
                    "metadata": {},
                    "output_type": "display_data"
                }
            ],
            "source": [
                "# generate confusion matrix\n",
                "cf_matrix = confusion_matrix(y_test, y_pred_grid)\n",
                "\n",
                "# create heatmap with count and percentage\n",
                "percentages = np.round(cf_matrix / np.sum(cf_matrix), 2)\n",
                "annot = np.empty_like(cf_matrix).astype(str)\n",
                "for i in range(cf_matrix.shape[0]):\n",
                "    for j in range(cf_matrix.shape[1]):\n",
                "        annot[i, j] = f'{cf_matrix[i, j]}\\n{percentages[i, j]:.0%}'\n",
                "sns.heatmap(cf_matrix, annot=annot, fmt='', cmap='Blues')"
            ]
        },
        {
            "attachments": {},
            "cell_type": "markdown",
            "metadata": {},
            "source": [
                "## TODO:\n",
                "- rename from imblearn.pipeline import make_pipeline and every use of make_pipeline\n",
                "- rename models\n",
                "- cleanup imports\n",
                "+ add ROC \n",
                "- improve Confusion Matrix (use a differnt one, \n",
                "                            add labels, title, etc)\n",
                "\n",
                "runtime of notebook: ~5min"
            ]
        }
    ],
    "metadata": {
        "kernelspec": {
            "display_name": "sf_portfolio",
            "language": "python",
            "name": "python3"
        },
        "language_info": {
            "codemirror_mode": {
                "name": "ipython",
                "version": 3
            },
            "file_extension": ".py",
            "mimetype": "text/x-python",
            "name": "python",
            "nbconvert_exporter": "python",
            "pygments_lexer": "ipython3",
            "version": "3.11.3"
        },
        "orig_nbformat": 4
    },
    "nbformat": 4,
    "nbformat_minor": 2
}
