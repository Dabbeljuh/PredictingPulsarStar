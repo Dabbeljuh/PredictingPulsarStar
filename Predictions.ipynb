{
 "cells": [
  {
   "cell_type": "code",
   "execution_count": 1,
   "id": "ea32aabc-188b-4cc7-b6d7-5ff6418e6257",
   "metadata": {
    "tags": []
   },
   "outputs": [
    {
     "name": "stderr",
     "output_type": "stream",
     "text": [
      "2023-06-13 15:38:22.419080: I tensorflow/core/platform/cpu_feature_guard.cc:193] This TensorFlow binary is optimized with oneAPI Deep Neural Network Library (oneDNN) to use the following CPU instructions in performance-critical operations:  SSE4.1 SSE4.2 AVX AVX2 FMA\n",
      "To enable them in other operations, rebuild TensorFlow with the appropriate compiler flags.\n"
     ]
    }
   ],
   "source": [
    "import joblib\n",
    "from tensorflow.keras.models import load_model\n",
    "import tensorflow as tf\n",
    "import pandas as pd\n",
    "from sklearn.metrics import classification_report"
   ]
  },
  {
   "cell_type": "code",
   "execution_count": 2,
   "id": "5f9169c0-83df-4de5-9f53-d92abbaa21cb",
   "metadata": {
    "tags": []
   },
   "outputs": [],
   "source": [
    "# load fitted pipeline\n",
    "pipeline_loaded = joblib.load('models/fitted_ANN_preprocessing_pipeline.pkl')\n",
    "\n",
    "claner_loaded = joblib.load('models/cleaner.pkl')"
   ]
  },
  {
   "cell_type": "code",
   "execution_count": 3,
   "id": "4326dd52-9609-417a-b4dc-0648f139db5e",
   "metadata": {
    "tags": []
   },
   "outputs": [],
   "source": [
    "## define f1 score \n",
    "#def f1_score_ann(y_true, y_pred):\n",
    "#    true_positives = K.sum(K.round(K.clip(y_true * y_pred, 0, 1)))\n",
    "#    predicted_positives = K.sum(K.round(K.clip(y_pred, 0, 1)))\n",
    "#    possible_positives = K.sum(K.round(K.clip(y_true, 0, 1)))\n",
    "#\n",
    "#    precision = true_positives / (predicted_positives + K.epsilon())\n",
    "#    recall = true_positives / (possible_positives + K.epsilon())\n",
    "#\n",
    "#    f1 = 2 * (precision * recall) / (precision + recall + K.epsilon())\n",
    "#    return f1\n",
    "#\n",
    "## load model\n",
    "## Register the custom metric function within a custom object scope\n",
    "#custom_objects = {'f1_score_ann': f1_score_ann}\n",
    "#with tf.keras.utils.custom_object_scope(custom_objects):\n",
    "#    # Load the saved model\n",
    "#    loaded_model = load_model('models/ann.h5')\n",
    "#\n",
    "#"
   ]
  },
  {
   "cell_type": "code",
   "execution_count": 4,
   "id": "df7c83a0-d3e1-4253-9535-74316242fdf6",
   "metadata": {
    "tags": []
   },
   "outputs": [
    {
     "name": "stderr",
     "output_type": "stream",
     "text": [
      "2023-06-13 15:38:23.803839: I tensorflow/core/platform/cpu_feature_guard.cc:193] This TensorFlow binary is optimized with oneAPI Deep Neural Network Library (oneDNN) to use the following CPU instructions in performance-critical operations:  SSE4.1 SSE4.2 AVX AVX2 FMA\n",
      "To enable them in other operations, rebuild TensorFlow with the appropriate compiler flags.\n"
     ]
    }
   ],
   "source": [
    "loaded_model = tf.keras.models.load_model('models/ann.h5', compile=False)"
   ]
  },
  {
   "cell_type": "code",
   "execution_count": 5,
   "id": "aa392eea-49b0-454d-8088-cd6a30014a2e",
   "metadata": {
    "tags": []
   },
   "outputs": [
    {
     "name": "stdout",
     "output_type": "stream",
     "text": [
      "Profile_mean          0\n",
      "Profile_std           0\n",
      "Profile_kurtosis    252\n",
      "Profile_skewness      0\n",
      "DM_SNR_mean           0\n",
      "DM_SNR_std          179\n",
      "DM_SNR_kurtosis       0\n",
      "DM_SNR_skewness     103\n",
      "dtype: int64\n"
     ]
    }
   ],
   "source": [
    "#load data\n",
    "\n",
    "X_test = pd.read_csv('data/X_test.csv')\n",
    "#X_test.head()\n",
    "print(X_test.isna().sum())\n",
    "\n",
    "y_test = pd.read_csv('data/y_test.csv')"
   ]
  },
  {
   "cell_type": "code",
   "execution_count": 6,
   "id": "7955e42d-c102-40e6-ac8b-fbe02490ece3",
   "metadata": {
    "tags": []
   },
   "outputs": [
    {
     "data": {
      "text/html": [
       "<div>\n",
       "<style scoped>\n",
       "    .dataframe tbody tr th:only-of-type {\n",
       "        vertical-align: middle;\n",
       "    }\n",
       "\n",
       "    .dataframe tbody tr th {\n",
       "        vertical-align: top;\n",
       "    }\n",
       "\n",
       "    .dataframe thead th {\n",
       "        text-align: right;\n",
       "    }\n",
       "</style>\n",
       "<table border=\"1\" class=\"dataframe\">\n",
       "  <thead>\n",
       "    <tr style=\"text-align: right;\">\n",
       "      <th></th>\n",
       "      <th>Profile_mean</th>\n",
       "      <th>Profile_std</th>\n",
       "      <th>Profile_kurtosis</th>\n",
       "      <th>Profile_skewness</th>\n",
       "      <th>DM_SNR_mean</th>\n",
       "      <th>DM_SNR_std</th>\n",
       "      <th>DM_SNR_kurtosis</th>\n",
       "      <th>DM_SNR_skewness</th>\n",
       "    </tr>\n",
       "  </thead>\n",
       "  <tbody>\n",
       "    <tr>\n",
       "      <th>0</th>\n",
       "      <td>106.015625</td>\n",
       "      <td>50.244711</td>\n",
       "      <td>0.308204</td>\n",
       "      <td>0.274101</td>\n",
       "      <td>6.869565</td>\n",
       "      <td>32.528835</td>\n",
       "      <td>5.124209</td>\n",
       "      <td>26.443823</td>\n",
       "    </tr>\n",
       "    <tr>\n",
       "      <th>1</th>\n",
       "      <td>109.562500</td>\n",
       "      <td>36.626227</td>\n",
       "      <td>0.278254</td>\n",
       "      <td>1.814582</td>\n",
       "      <td>5.351171</td>\n",
       "      <td>25.645325</td>\n",
       "      <td>5.864311</td>\n",
       "      <td>38.502413</td>\n",
       "    </tr>\n",
       "    <tr>\n",
       "      <th>2</th>\n",
       "      <td>119.445312</td>\n",
       "      <td>46.846126</td>\n",
       "      <td>0.179741</td>\n",
       "      <td>0.111426</td>\n",
       "      <td>3.415552</td>\n",
       "      <td>19.284797</td>\n",
       "      <td>6.680946</td>\n",
       "      <td>52.471406</td>\n",
       "    </tr>\n",
       "    <tr>\n",
       "      <th>3</th>\n",
       "      <td>108.468750</td>\n",
       "      <td>44.300278</td>\n",
       "      <td>0.234723</td>\n",
       "      <td>0.737700</td>\n",
       "      <td>1.494983</td>\n",
       "      <td>12.326351</td>\n",
       "      <td>12.454074</td>\n",
       "      <td>196.299397</td>\n",
       "    </tr>\n",
       "    <tr>\n",
       "      <th>4</th>\n",
       "      <td>26.578125</td>\n",
       "      <td>31.823637</td>\n",
       "      <td>5.502087</td>\n",
       "      <td>31.529843</td>\n",
       "      <td>134.798495</td>\n",
       "      <td>72.055583</td>\n",
       "      <td>0.029297</td>\n",
       "      <td>-1.211265</td>\n",
       "    </tr>\n",
       "  </tbody>\n",
       "</table>\n",
       "</div>"
      ],
      "text/plain": [
       "   Profile_mean  Profile_std  Profile_kurtosis  Profile_skewness  DM_SNR_mean   \n",
       "0    106.015625    50.244711          0.308204          0.274101     6.869565  \\\n",
       "1    109.562500    36.626227          0.278254          1.814582     5.351171   \n",
       "2    119.445312    46.846126          0.179741          0.111426     3.415552   \n",
       "3    108.468750    44.300278          0.234723          0.737700     1.494983   \n",
       "4     26.578125    31.823637          5.502087         31.529843   134.798495   \n",
       "\n",
       "   DM_SNR_std  DM_SNR_kurtosis  DM_SNR_skewness  \n",
       "0   32.528835         5.124209        26.443823  \n",
       "1   25.645325         5.864311        38.502413  \n",
       "2   19.284797         6.680946        52.471406  \n",
       "3   12.326351        12.454074       196.299397  \n",
       "4   72.055583         0.029297        -1.211265  "
      ]
     },
     "execution_count": 6,
     "metadata": {},
     "output_type": "execute_result"
    }
   ],
   "source": [
    "# apply cleaning\n",
    "X_test_clean = pd.DataFrame(claner_loaded.transform(X_test), columns=X_test.columns)\n",
    "X_test_clean.head()"
   ]
  },
  {
   "cell_type": "code",
   "execution_count": 7,
   "id": "1e41dee6-0f16-4463-b766-ea3309c97ecd",
   "metadata": {
    "tags": []
   },
   "outputs": [],
   "source": [
    "# apply preprocessing\n",
    "X_test_preprocessed = pipeline_loaded.transform(X_test_clean)"
   ]
  },
  {
   "cell_type": "code",
   "execution_count": 8,
   "id": "eeceac17-2c89-4af8-b402-cc16b53edbc5",
   "metadata": {
    "tags": []
   },
   "outputs": [
    {
     "name": "stdout",
     "output_type": "stream",
     "text": [
      "59/59 [==============================] - 0s 372us/step\n",
      "              precision    recall  f1-score   support\n",
      "\n",
      "         0.0       0.99      1.00      0.99      1708\n",
      "         1.0       0.96      0.87      0.91       171\n",
      "\n",
      "    accuracy                           0.98      1879\n",
      "   macro avg       0.97      0.93      0.95      1879\n",
      "weighted avg       0.98      0.98      0.98      1879\n",
      "\n"
     ]
    }
   ],
   "source": [
    "# Use the loaded model for predictions\n",
    "predictions = (loaded_model.predict(X_test_preprocessed) > 0.5).astype('int8')\n",
    "print(classification_report(y_test, predictions))\n",
    "\n",
    "\n",
    "#y_pred = (model_ann.predict(X_test_preprocessed) > 0.5).astype('int8')\n",
    "#y_pred_proba = model_ann.predict(X_test_preprocessed)\n",
    "#\n",
    "#y_true = y_test\n",
    "#\n",
    "##evaluate\n",
    "#print('Evaluation-----------------')\n",
    "#print('Recall :', recall_score(y_true, y_pred))\n",
    "#print('Precision :', precision_score(y_true, y_pred))\n",
    "#print('F1 :', f1_score(y_true, y_pred))\n",
    "#print('Accuracy :', accuracy_score(y_true, y_pred))\n",
    "#print('ROC_AUC :', roc_auc_score(y_true, y_pred_proba))\n",
    "#"
   ]
  },
  {
   "cell_type": "code",
   "execution_count": null,
   "id": "ef09c3f0-8f84-4b94-be9b-b137e9345e02",
   "metadata": {},
   "outputs": [],
   "source": []
  }
 ],
 "metadata": {
  "kernelspec": {
   "display_name": "Python 3 (ipykernel)",
   "language": "python",
   "name": "python3"
  },
  "language_info": {
   "codemirror_mode": {
    "name": "ipython",
    "version": 3
   },
   "file_extension": ".py",
   "mimetype": "text/x-python",
   "name": "python",
   "nbconvert_exporter": "python",
   "pygments_lexer": "ipython3",
   "version": "3.9.16"
  }
 },
 "nbformat": 4,
 "nbformat_minor": 5
}
