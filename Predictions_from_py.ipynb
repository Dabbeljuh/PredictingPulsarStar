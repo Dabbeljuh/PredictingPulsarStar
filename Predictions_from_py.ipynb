{
 "cells": [
  {
   "attachments": {},
   "cell_type": "markdown",
   "metadata": {},
   "source": [
    "# Imports"
   ]
  },
  {
   "cell_type": "code",
   "execution_count": 1,
   "metadata": {},
   "outputs": [],
   "source": [
    "import pandas as pd\n",
    "from sklearn.metrics import classification_report\n",
    "from src.predict import ann_prediction, prepare_dataframe"
   ]
  },
  {
   "attachments": {},
   "cell_type": "markdown",
   "metadata": {},
   "source": [
    "# Prediction"
   ]
  },
  {
   "attachments": {},
   "cell_type": "markdown",
   "metadata": {},
   "source": [
    "## Prediction - Own Test Data"
   ]
  },
  {
   "attachments": {},
   "cell_type": "markdown",
   "metadata": {},
   "source": [
    "Using the already existing <code>data/X_test.csv</code> to test the <code>ann_prediction</code> function and showing a quick classification report."
   ]
  },
  {
   "cell_type": "code",
   "execution_count": 2,
   "metadata": {},
   "outputs": [
    {
     "name": "stdout",
     "output_type": "stream",
     "text": [
      "59/59 [==============================] - 0s 708us/step\n",
      "              precision    recall  f1-score   support\n",
      "\n",
      "         0.0       0.99      1.00      0.99      1708\n",
      "         1.0       0.96      0.87      0.91       171\n",
      "\n",
      "    accuracy                           0.98      1879\n",
      "   macro avg       0.97      0.93      0.95      1879\n",
      "weighted avg       0.98      0.98      0.98      1879\n",
      "\n"
     ]
    }
   ],
   "source": [
    "y_pred = ann_prediction('data/X_test.csv')\n",
    "y_test = pd.read_csv('data/y_test.csv')\n",
    "\n",
    "print(classification_report(y_test, y_pred))"
   ]
  },
  {
   "attachments": {},
   "cell_type": "markdown",
   "metadata": {},
   "source": [
    "## Prediction - Kaggle Test Data"
   ]
  },
  {
   "attachments": {},
   "cell_type": "markdown",
   "metadata": {},
   "source": [
    "Here we are using the <code>ann_prediction</code> function to get a prediction for the Kaggle <code>pulsar_data_test.csv</code>. This dataset is our aim dataset, where we don’t have the actual results (<code>y_test</code>) to compare with our predictions (<code>y_pred</code>). As a result, we cannot evaluate the performance of our model on this dataset. However, our goal is to save the <code>test_pred</code> as a CSV file for further analysis."
   ]
  },
  {
   "cell_type": "code",
   "execution_count": 13,
   "metadata": {},
   "outputs": [
    {
     "name": "stdout",
     "output_type": "stream",
     "text": [
      "168/168 [==============================] - 0s 653us/step\n",
      "(5370, 1)\n"
     ]
    }
   ],
   "source": [
    "test_pred = ann_prediction('data/pulsar_data_test.csv')\n",
    "\n",
    "print(test_pred.shape)"
   ]
  },
  {
   "attachments": {},
   "cell_type": "markdown",
   "metadata": {},
   "source": [
    "Saves the prediction to csv for further work."
   ]
  },
  {
   "cell_type": "code",
   "execution_count": 12,
   "metadata": {},
   "outputs": [],
   "source": [
    "pd.DataFrame(test_pred).to_csv('data/predictions_aim.csv', index=False)"
   ]
  }
 ],
 "metadata": {
  "kernelspec": {
   "display_name": "sf_portfolio",
   "language": "python",
   "name": "python3"
  },
  "language_info": {
   "codemirror_mode": {
    "name": "ipython",
    "version": 3
   },
   "file_extension": ".py",
   "mimetype": "text/x-python",
   "name": "python",
   "nbconvert_exporter": "python",
   "pygments_lexer": "ipython3",
   "version": "3.11.3"
  },
  "orig_nbformat": 4
 },
 "nbformat": 4,
 "nbformat_minor": 2
}
